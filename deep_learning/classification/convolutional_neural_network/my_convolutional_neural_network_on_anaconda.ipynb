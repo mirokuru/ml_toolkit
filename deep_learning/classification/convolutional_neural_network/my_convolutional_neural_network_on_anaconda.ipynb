{
 "cells": [
  {
   "cell_type": "markdown",
   "metadata": {
    "colab_type": "text",
    "id": "3DR-eO17geWu"
   },
   "source": [
    "# Convolutional Neural Network"
   ]
  },
  {
   "cell_type": "markdown",
   "metadata": {
    "colab_type": "text",
    "id": "EMefrVPCg-60"
   },
   "source": [
    "### Importing the libraries"
   ]
  },
  {
   "cell_type": "code",
   "execution_count": 1,
   "metadata": {},
   "outputs": [],
   "source": [
    "import tensorflow as tf\n",
    "from tensorflow.keras.preprocessing.image import ImageDataGenerator"
   ]
  },
  {
   "cell_type": "code",
   "execution_count": 2,
   "metadata": {},
   "outputs": [
    {
     "data": {
      "text/plain": [
       "'2.5.0'"
      ]
     },
     "execution_count": 2,
     "metadata": {},
     "output_type": "execute_result"
    }
   ],
   "source": [
    "tf.__version__"
   ]
  },
  {
   "cell_type": "markdown",
   "metadata": {},
   "source": [
    "## Part 0 - Data Import"
   ]
  },
  {
   "cell_type": "code",
   "execution_count": 3,
   "metadata": {},
   "outputs": [],
   "source": [
    "import zipfile as zf\n",
    "files = zf.ZipFile(\"dataset.zip\", 'r')\n",
    "files.extractall('./')\n",
    "files.close()"
   ]
  },
  {
   "cell_type": "markdown",
   "metadata": {
    "colab_type": "text",
    "id": "oxQxCBWyoGPE"
   },
   "source": [
    "## Part 1 - Data Preprocessing"
   ]
  },
  {
   "cell_type": "markdown",
   "metadata": {
    "colab_type": "text",
    "id": "MvE-heJNo3GG"
   },
   "source": [
    "### Preprocessing the Training set"
   ]
  },
  {
   "cell_type": "code",
   "execution_count": 4,
   "metadata": {},
   "outputs": [
    {
     "name": "stdout",
     "output_type": "stream",
     "text": [
      "Found 8000 images belonging to 2 classes.\n"
     ]
    }
   ],
   "source": [
    "train_datagen = ImageDataGenerator(\n",
    "        rescale=1./255,\n",
    "        shear_range=0.2,\n",
    "        zoom_range=0.2,\n",
    "        horizontal_flip=True)\n",
    "training_set = train_datagen.flow_from_directory(\n",
    "        'dataset/training_set',\n",
    "        target_size=(64, 64),\n",
    "        batch_size=32,\n",
    "        class_mode='binary')"
   ]
  },
  {
   "cell_type": "markdown",
   "metadata": {
    "colab_type": "text",
    "id": "mrCMmGw9pHys"
   },
   "source": [
    "### Preprocessing the Test set"
   ]
  },
  {
   "cell_type": "code",
   "execution_count": 5,
   "metadata": {},
   "outputs": [
    {
     "name": "stdout",
     "output_type": "stream",
     "text": [
      "Found 2000 images belonging to 2 classes.\n"
     ]
    }
   ],
   "source": [
    "test_datagen = ImageDataGenerator(rescale=1./255)\n",
    "test_set = test_datagen.flow_from_directory(\n",
    "        'dataset/test_set',\n",
    "        target_size=(64, 64),\n",
    "        batch_size=32,\n",
    "        class_mode='binary')"
   ]
  },
  {
   "cell_type": "markdown",
   "metadata": {
    "colab_type": "text",
    "id": "af8O4l90gk7B"
   },
   "source": [
    "## Part 2 - Building the CNN"
   ]
  },
  {
   "cell_type": "markdown",
   "metadata": {
    "colab_type": "text",
    "id": "ces1gXY2lmoX"
   },
   "source": [
    "### Initialising the CNN"
   ]
  },
  {
   "cell_type": "code",
   "execution_count": 6,
   "metadata": {},
   "outputs": [],
   "source": [
    "cnn = tf.keras.models.Sequential()"
   ]
  },
  {
   "cell_type": "markdown",
   "metadata": {
    "colab_type": "text",
    "id": "u5YJj_XMl5LF"
   },
   "source": [
    "### Step 1 - Convolution"
   ]
  },
  {
   "cell_type": "code",
   "execution_count": 7,
   "metadata": {},
   "outputs": [],
   "source": [
    "cnn.add(tf.keras.layers.Conv2D(filters=32, kernel_size=3, activation='relu', input_shape=[64, 64, 3]))"
   ]
  },
  {
   "cell_type": "markdown",
   "metadata": {
    "colab_type": "text",
    "id": "tf87FpvxmNOJ"
   },
   "source": [
    "### Step 2 - Pooling"
   ]
  },
  {
   "cell_type": "code",
   "execution_count": 8,
   "metadata": {},
   "outputs": [],
   "source": [
    "cnn.add(tf.keras.layers.MaxPool2D(pool_size=2, strides=2))"
   ]
  },
  {
   "cell_type": "markdown",
   "metadata": {
    "colab_type": "text",
    "id": "xaTOgD8rm4mU"
   },
   "source": [
    "### Adding a second convolutional layer"
   ]
  },
  {
   "cell_type": "code",
   "execution_count": 9,
   "metadata": {},
   "outputs": [],
   "source": [
    "cnn.add(tf.keras.layers.Conv2D(filters=32, kernel_size=3, activation='relu'))\n",
    "cnn.add(tf.keras.layers.MaxPool2D(pool_size=2, strides=2))"
   ]
  },
  {
   "cell_type": "markdown",
   "metadata": {
    "colab_type": "text",
    "id": "tmiEuvTunKfk"
   },
   "source": [
    "### Step 3 - Flattening"
   ]
  },
  {
   "cell_type": "code",
   "execution_count": 10,
   "metadata": {},
   "outputs": [],
   "source": [
    "cnn.add(tf.keras.layers.Flatten())"
   ]
  },
  {
   "cell_type": "markdown",
   "metadata": {
    "colab_type": "text",
    "id": "dAoSECOm203v"
   },
   "source": [
    "### Step 4 - Full Connection"
   ]
  },
  {
   "cell_type": "code",
   "execution_count": 11,
   "metadata": {},
   "outputs": [],
   "source": [
    "cnn.add(tf.keras.layers.Dense(units=128, activation='relu'))"
   ]
  },
  {
   "cell_type": "markdown",
   "metadata": {
    "colab_type": "text",
    "id": "yTldFvbX28Na"
   },
   "source": [
    "### Step 5 - Output Layer"
   ]
  },
  {
   "cell_type": "code",
   "execution_count": 12,
   "metadata": {},
   "outputs": [],
   "source": [
    "cnn.add(tf.keras.layers.Dense(units=1, activation='sigmoid'))\n",
    "# use sigmoid activation to get propability for binary output\n",
    "# use softmax activation for categorical output"
   ]
  },
  {
   "cell_type": "markdown",
   "metadata": {
    "colab_type": "text",
    "id": "D6XkI90snSDl"
   },
   "source": [
    "## Part 3 - Training the CNN"
   ]
  },
  {
   "cell_type": "markdown",
   "metadata": {
    "colab_type": "text",
    "id": "vfrFQACEnc6i"
   },
   "source": [
    "### Compiling the CNN"
   ]
  },
  {
   "cell_type": "code",
   "execution_count": 13,
   "metadata": {},
   "outputs": [],
   "source": [
    "cnn.compile(optimizer = 'adam', loss = 'binary_crossentropy', metrics = ['accuracy'])"
   ]
  },
  {
   "cell_type": "markdown",
   "metadata": {
    "colab_type": "text",
    "id": "ehS-v3MIpX2h"
   },
   "source": [
    "### Training the CNN on the Training set and evaluating it on the Test set"
   ]
  },
  {
   "cell_type": "code",
   "execution_count": 14,
   "metadata": {},
   "outputs": [
    {
     "name": "stdout",
     "output_type": "stream",
     "text": [
      "Epoch 1/25\n",
      "250/250 [==============================] - 56s 208ms/step - loss: 0.6773 - accuracy: 0.5706 - val_loss: 0.6366 - val_accuracy: 0.6470\n",
      "Epoch 2/25\n",
      "250/250 [==============================] - 54s 215ms/step - loss: 0.6208 - accuracy: 0.6606 - val_loss: 0.5915 - val_accuracy: 0.7035\n",
      "Epoch 3/25\n",
      "250/250 [==============================] - 50s 200ms/step - loss: 0.5849 - accuracy: 0.6886 - val_loss: 0.5515 - val_accuracy: 0.7175\n",
      "Epoch 4/25\n",
      "250/250 [==============================] - 52s 209ms/step - loss: 0.5524 - accuracy: 0.7166 - val_loss: 0.5312 - val_accuracy: 0.7365\n",
      "Epoch 5/25\n",
      "250/250 [==============================] - 51s 203ms/step - loss: 0.5232 - accuracy: 0.7365 - val_loss: 0.5066 - val_accuracy: 0.7540\n",
      "Epoch 6/25\n",
      "250/250 [==============================] - 50s 199ms/step - loss: 0.5066 - accuracy: 0.7445 - val_loss: 0.5090 - val_accuracy: 0.7445\n",
      "Epoch 7/25\n",
      "250/250 [==============================] - 49s 195ms/step - loss: 0.4827 - accuracy: 0.7689 - val_loss: 0.4938 - val_accuracy: 0.7585\n",
      "Epoch 8/25\n",
      "250/250 [==============================] - 49s 196ms/step - loss: 0.4637 - accuracy: 0.7753 - val_loss: 0.4889 - val_accuracy: 0.7720\n",
      "Epoch 9/25\n",
      "250/250 [==============================] - 49s 195ms/step - loss: 0.4522 - accuracy: 0.7930 - val_loss: 0.4874 - val_accuracy: 0.7760\n",
      "Epoch 10/25\n",
      "250/250 [==============================] - 51s 205ms/step - loss: 0.4336 - accuracy: 0.7975 - val_loss: 0.4921 - val_accuracy: 0.7735\n",
      "Epoch 11/25\n",
      "250/250 [==============================] - 52s 206ms/step - loss: 0.4032 - accuracy: 0.8166 - val_loss: 0.4880 - val_accuracy: 0.7745\n",
      "Epoch 12/25\n",
      "250/250 [==============================] - 51s 204ms/step - loss: 0.3934 - accuracy: 0.8220 - val_loss: 0.4911 - val_accuracy: 0.7835\n",
      "Epoch 13/25\n",
      "250/250 [==============================] - 51s 204ms/step - loss: 0.3773 - accuracy: 0.8307 - val_loss: 0.5071 - val_accuracy: 0.7725\n",
      "Epoch 14/25\n",
      "250/250 [==============================] - 51s 205ms/step - loss: 0.3588 - accuracy: 0.8381 - val_loss: 0.4804 - val_accuracy: 0.7870\n",
      "Epoch 15/25\n",
      "250/250 [==============================] - 50s 198ms/step - loss: 0.3264 - accuracy: 0.8559 - val_loss: 0.4946 - val_accuracy: 0.7765\n",
      "Epoch 16/25\n",
      "250/250 [==============================] - 51s 205ms/step - loss: 0.3151 - accuracy: 0.8622 - val_loss: 0.5074 - val_accuracy: 0.7775\n",
      "Epoch 17/25\n",
      "250/250 [==============================] - 49s 196ms/step - loss: 0.3016 - accuracy: 0.8705 - val_loss: 0.4782 - val_accuracy: 0.7955\n",
      "Epoch 18/25\n",
      "250/250 [==============================] - 49s 197ms/step - loss: 0.2777 - accuracy: 0.8825 - val_loss: 0.5543 - val_accuracy: 0.7855\n",
      "Epoch 19/25\n",
      "250/250 [==============================] - 50s 199ms/step - loss: 0.2562 - accuracy: 0.8928 - val_loss: 0.5576 - val_accuracy: 0.7745\n",
      "Epoch 20/25\n",
      "250/250 [==============================] - 49s 196ms/step - loss: 0.2438 - accuracy: 0.9003 - val_loss: 0.6182 - val_accuracy: 0.7655\n",
      "Epoch 21/25\n",
      "250/250 [==============================] - 49s 196ms/step - loss: 0.2293 - accuracy: 0.9085 - val_loss: 0.6124 - val_accuracy: 0.7770\n",
      "Epoch 22/25\n",
      "250/250 [==============================] - 49s 195ms/step - loss: 0.2175 - accuracy: 0.9170 - val_loss: 0.6108 - val_accuracy: 0.7910\n",
      "Epoch 23/25\n",
      "250/250 [==============================] - 50s 200ms/step - loss: 0.1966 - accuracy: 0.9226 - val_loss: 0.6307 - val_accuracy: 0.7775\n",
      "Epoch 24/25\n",
      "250/250 [==============================] - 50s 200ms/step - loss: 0.1876 - accuracy: 0.9235 - val_loss: 0.6263 - val_accuracy: 0.7840\n",
      "Epoch 25/25\n",
      "250/250 [==============================] - 50s 198ms/step - loss: 0.1769 - accuracy: 0.9305 - val_loss: 0.6064 - val_accuracy: 0.7825\n"
     ]
    },
    {
     "data": {
      "text/plain": [
       "<tensorflow.python.keras.callbacks.History at 0x2402219a6d8>"
      ]
     },
     "execution_count": 14,
     "metadata": {},
     "output_type": "execute_result"
    }
   ],
   "source": [
    "cnn.fit(x = training_set, validation_data = test_set, epochs = 25)"
   ]
  },
  {
   "cell_type": "markdown",
   "metadata": {
    "colab_type": "text",
    "id": "U3PZasO0006Z"
   },
   "source": [
    "## Part 4 - Making a single prediction"
   ]
  },
  {
   "cell_type": "code",
   "execution_count": 15,
   "metadata": {},
   "outputs": [
    {
     "data": {
      "text/plain": [
       "{'cats': 0, 'dogs': 1}"
      ]
     },
     "execution_count": 15,
     "metadata": {},
     "output_type": "execute_result"
    }
   ],
   "source": [
    "training_set.class_indices"
   ]
  },
  {
   "cell_type": "code",
   "execution_count": 18,
   "metadata": {},
   "outputs": [
    {
     "name": "stdout",
     "output_type": "stream",
     "text": [
      "dog\n"
     ]
    }
   ],
   "source": [
    "import numpy as np\n",
    "from tensorflow.keras.preprocessing import image\n",
    "test_image = image.load_img('dataset/single_prediction/cat_or_dog_1.jpg', target_size = (64, 64))\n",
    "test_image = image.img_to_array(test_image)\n",
    "test_image = np.expand_dims(test_image, axis = 0)\n",
    "result = cnn.predict(test_image)\n",
    "if result[0][0] == 1:\n",
    "    prediction = 'dog'\n",
    "else:\n",
    "    prediction = 'cat'\n",
    "\n",
    "print(prediction)"
   ]
  },
  {
   "cell_type": "code",
   "execution_count": 19,
   "metadata": {},
   "outputs": [
    {
     "name": "stdout",
     "output_type": "stream",
     "text": [
      "dog\n"
     ]
    }
   ],
   "source": [
    "test_image = image.load_img('dataset/single_prediction/cat_or_dog_2.jpg', target_size = (64, 64))\n",
    "test_image = image.img_to_array(test_image)\n",
    "test_image = np.expand_dims(test_image, axis = 0)\n",
    "result = cnn.predict(test_image)\n",
    "if result[0][0] == 1:\n",
    "    prediction = 'dog'\n",
    "else:\n",
    "    prediction = 'cat'\n",
    "\n",
    "print(prediction)"
   ]
  }
 ],
 "metadata": {
  "colab": {
   "authorship_tag": "ABX9TyON0YxX/oky4tPbqCLnFjWD",
   "collapsed_sections": [],
   "name": "convolutional_neural_network.ipynb",
   "provenance": [],
   "toc_visible": true
  },
  "kernelspec": {
   "display_name": "Python 3",
   "language": "python",
   "name": "python3"
  },
  "language_info": {
   "codemirror_mode": {
    "name": "ipython",
    "version": 3
   },
   "file_extension": ".py",
   "mimetype": "text/x-python",
   "name": "python",
   "nbconvert_exporter": "python",
   "pygments_lexer": "ipython3",
   "version": "3.6.12"
  }
 },
 "nbformat": 4,
 "nbformat_minor": 4
}
