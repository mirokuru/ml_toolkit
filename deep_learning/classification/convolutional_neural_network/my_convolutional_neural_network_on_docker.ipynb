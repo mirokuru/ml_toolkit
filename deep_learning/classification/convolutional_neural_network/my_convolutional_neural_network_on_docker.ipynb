{
 "cells": [
  {
   "cell_type": "markdown",
   "metadata": {
    "colab_type": "text",
    "id": "3DR-eO17geWu"
   },
   "source": [
    "# Convolutional Neural Network"
   ]
  },
  {
   "cell_type": "markdown",
   "metadata": {
    "colab_type": "text",
    "id": "EMefrVPCg-60"
   },
   "source": [
    "### Importing the libraries"
   ]
  },
  {
   "cell_type": "code",
   "execution_count": 1,
   "metadata": {},
   "outputs": [],
   "source": [
    "import tensorflow as tf\n",
    "from keras.preprocessing.image import ImageDataGenerator"
   ]
  },
  {
   "cell_type": "code",
   "execution_count": 2,
   "metadata": {},
   "outputs": [
    {
     "data": {
      "text/plain": [
       "'2.5.0'"
      ]
     },
     "execution_count": 2,
     "metadata": {},
     "output_type": "execute_result"
    }
   ],
   "source": [
    "tf.__version__"
   ]
  },
  {
   "cell_type": "markdown",
   "metadata": {},
   "source": [
    "## Part 0 - Data Import"
   ]
  },
  {
   "cell_type": "code",
   "execution_count": 3,
   "metadata": {},
   "outputs": [],
   "source": [
    "import zipfile as zf\n",
    "files = zf.ZipFile(\"dataset.zip\", 'r')\n",
    "files.extractall('./')\n",
    "files.close()"
   ]
  },
  {
   "cell_type": "markdown",
   "metadata": {
    "colab_type": "text",
    "id": "oxQxCBWyoGPE"
   },
   "source": [
    "## Part 1 - Data Preprocessing"
   ]
  },
  {
   "cell_type": "markdown",
   "metadata": {
    "colab_type": "text",
    "id": "MvE-heJNo3GG"
   },
   "source": [
    "### Preprocessing the Training set"
   ]
  },
  {
   "cell_type": "code",
   "execution_count": 4,
   "metadata": {},
   "outputs": [
    {
     "name": "stdout",
     "output_type": "stream",
     "text": [
      "Found 8000 images belonging to 2 classes.\n"
     ]
    }
   ],
   "source": [
    "train_datagen = ImageDataGenerator(\n",
    "        rescale=1./255,\n",
    "        shear_range=0.2,\n",
    "        zoom_range=0.2,\n",
    "        horizontal_flip=True)\n",
    "training_set = train_datagen.flow_from_directory(\n",
    "        'dataset/training_set',\n",
    "        target_size=(64, 64),\n",
    "        batch_size=32,\n",
    "        class_mode='binary')"
   ]
  },
  {
   "cell_type": "markdown",
   "metadata": {
    "colab_type": "text",
    "id": "mrCMmGw9pHys"
   },
   "source": [
    "### Preprocessing the Test set"
   ]
  },
  {
   "cell_type": "code",
   "execution_count": 5,
   "metadata": {},
   "outputs": [
    {
     "name": "stdout",
     "output_type": "stream",
     "text": [
      "Found 2000 images belonging to 2 classes.\n"
     ]
    }
   ],
   "source": [
    "test_datagen = ImageDataGenerator(rescale=1./255)\n",
    "test_set = test_datagen.flow_from_directory(\n",
    "        'dataset/test_set',\n",
    "        target_size=(64, 64),\n",
    "        batch_size=32,\n",
    "        class_mode='binary')"
   ]
  },
  {
   "cell_type": "markdown",
   "metadata": {
    "colab_type": "text",
    "id": "af8O4l90gk7B"
   },
   "source": [
    "## Part 2 - Building the CNN"
   ]
  },
  {
   "cell_type": "markdown",
   "metadata": {
    "colab_type": "text",
    "id": "ces1gXY2lmoX"
   },
   "source": [
    "### Initialising the CNN"
   ]
  },
  {
   "cell_type": "code",
   "execution_count": 6,
   "metadata": {},
   "outputs": [],
   "source": [
    "cnn = tf.keras.models.Sequential()"
   ]
  },
  {
   "cell_type": "markdown",
   "metadata": {
    "colab_type": "text",
    "id": "u5YJj_XMl5LF"
   },
   "source": [
    "### Step 1 - Convolution"
   ]
  },
  {
   "cell_type": "code",
   "execution_count": 7,
   "metadata": {},
   "outputs": [],
   "source": [
    "cnn.add(tf.keras.layers.Conv2D(filters=32, kernel_size=3, activation='relu', input_shape=[64, 64, 3]))"
   ]
  },
  {
   "cell_type": "markdown",
   "metadata": {
    "colab_type": "text",
    "id": "tf87FpvxmNOJ"
   },
   "source": [
    "### Step 2 - Pooling"
   ]
  },
  {
   "cell_type": "code",
   "execution_count": 8,
   "metadata": {},
   "outputs": [],
   "source": [
    "cnn.add(tf.keras.layers.MaxPool2D(pool_size=2, strides=2))"
   ]
  },
  {
   "cell_type": "markdown",
   "metadata": {
    "colab_type": "text",
    "id": "xaTOgD8rm4mU"
   },
   "source": [
    "### Adding a second convolutional layer"
   ]
  },
  {
   "cell_type": "code",
   "execution_count": 9,
   "metadata": {},
   "outputs": [],
   "source": [
    "cnn.add(tf.keras.layers.Conv2D(filters=32, kernel_size=3, activation='relu'))\n",
    "cnn.add(tf.keras.layers.MaxPool2D(pool_size=2, strides=2))"
   ]
  },
  {
   "cell_type": "markdown",
   "metadata": {
    "colab_type": "text",
    "id": "tmiEuvTunKfk"
   },
   "source": [
    "### Step 3 - Flattening"
   ]
  },
  {
   "cell_type": "code",
   "execution_count": 10,
   "metadata": {},
   "outputs": [],
   "source": [
    "cnn.add(tf.keras.layers.Flatten())"
   ]
  },
  {
   "cell_type": "markdown",
   "metadata": {
    "colab_type": "text",
    "id": "dAoSECOm203v"
   },
   "source": [
    "### Step 4 - Full Connection"
   ]
  },
  {
   "cell_type": "code",
   "execution_count": 11,
   "metadata": {},
   "outputs": [],
   "source": [
    "cnn.add(tf.keras.layers.Dense(units=128, activation='relu'))"
   ]
  },
  {
   "cell_type": "markdown",
   "metadata": {
    "colab_type": "text",
    "id": "yTldFvbX28Na"
   },
   "source": [
    "### Step 5 - Output Layer"
   ]
  },
  {
   "cell_type": "code",
   "execution_count": 12,
   "metadata": {},
   "outputs": [],
   "source": [
    "cnn.add(tf.keras.layers.Dense(units=1, activation='sigmoid'))\n",
    "# use sigmoid activation to get propability for binary output\n",
    "# use softmax activation for categorical output"
   ]
  },
  {
   "cell_type": "markdown",
   "metadata": {
    "colab_type": "text",
    "id": "D6XkI90snSDl"
   },
   "source": [
    "## Part 3 - Training the CNN"
   ]
  },
  {
   "cell_type": "markdown",
   "metadata": {
    "colab_type": "text",
    "id": "vfrFQACEnc6i"
   },
   "source": [
    "### Compiling the CNN"
   ]
  },
  {
   "cell_type": "code",
   "execution_count": 13,
   "metadata": {},
   "outputs": [],
   "source": [
    "cnn.compile(optimizer = 'adam', loss = 'binary_crossentropy', metrics = ['accuracy'])"
   ]
  },
  {
   "cell_type": "markdown",
   "metadata": {
    "colab_type": "text",
    "id": "ehS-v3MIpX2h"
   },
   "source": [
    "### Training the CNN on the Training set and evaluating it on the Test set"
   ]
  },
  {
   "cell_type": "code",
   "execution_count": 14,
   "metadata": {},
   "outputs": [
    {
     "name": "stdout",
     "output_type": "stream",
     "text": [
      "Epoch 1/25\n",
      "250/250 [==============================] - 53s 202ms/step - loss: 0.6828 - accuracy: 0.5689 - val_loss: 0.6472 - val_accuracy: 0.6155\n",
      "Epoch 2/25\n",
      "250/250 [==============================] - 51s 204ms/step - loss: 0.6391 - accuracy: 0.6380 - val_loss: 0.6106 - val_accuracy: 0.6685\n",
      "Epoch 3/25\n",
      "250/250 [==============================] - 49s 195ms/step - loss: 0.6102 - accuracy: 0.6679 - val_loss: 0.5891 - val_accuracy: 0.6895\n",
      "Epoch 4/25\n",
      "250/250 [==============================] - 47s 188ms/step - loss: 0.5831 - accuracy: 0.6902 - val_loss: 0.5717 - val_accuracy: 0.7045\n",
      "Epoch 5/25\n",
      "250/250 [==============================] - 47s 187ms/step - loss: 0.5535 - accuracy: 0.7182 - val_loss: 0.5353 - val_accuracy: 0.7430\n",
      "Epoch 6/25\n",
      "250/250 [==============================] - 49s 194ms/step - loss: 0.5260 - accuracy: 0.7337 - val_loss: 0.5219 - val_accuracy: 0.7425\n",
      "Epoch 7/25\n",
      "250/250 [==============================] - 50s 199ms/step - loss: 0.5102 - accuracy: 0.7475 - val_loss: 0.5407 - val_accuracy: 0.7250\n",
      "Epoch 8/25\n",
      "250/250 [==============================] - 52s 209ms/step - loss: 0.4837 - accuracy: 0.7690 - val_loss: 0.5301 - val_accuracy: 0.7320\n",
      "Epoch 9/25\n",
      "250/250 [==============================] - 52s 206ms/step - loss: 0.4648 - accuracy: 0.7749 - val_loss: 0.4905 - val_accuracy: 0.7690\n",
      "Epoch 10/25\n",
      "250/250 [==============================] - 50s 200ms/step - loss: 0.4535 - accuracy: 0.7831 - val_loss: 0.5193 - val_accuracy: 0.7635\n",
      "Epoch 11/25\n",
      "250/250 [==============================] - 48s 192ms/step - loss: 0.4312 - accuracy: 0.7915 - val_loss: 0.4800 - val_accuracy: 0.7795\n",
      "Epoch 12/25\n",
      "250/250 [==============================] - 51s 202ms/step - loss: 0.4126 - accuracy: 0.8138 - val_loss: 0.4951 - val_accuracy: 0.7710\n",
      "Epoch 13/25\n",
      "250/250 [==============================] - 48s 192ms/step - loss: 0.4022 - accuracy: 0.8142 - val_loss: 0.4849 - val_accuracy: 0.7805\n",
      "Epoch 14/25\n",
      "250/250 [==============================] - 47s 186ms/step - loss: 0.3740 - accuracy: 0.8285 - val_loss: 0.4969 - val_accuracy: 0.7810\n",
      "Epoch 15/25\n",
      "250/250 [==============================] - 46s 185ms/step - loss: 0.3764 - accuracy: 0.8321 - val_loss: 0.5071 - val_accuracy: 0.7765\n",
      "Epoch 16/25\n",
      "250/250 [==============================] - 46s 184ms/step - loss: 0.3495 - accuracy: 0.8428 - val_loss: 0.5626 - val_accuracy: 0.7510\n",
      "Epoch 17/25\n",
      "250/250 [==============================] - 46s 184ms/step - loss: 0.3457 - accuracy: 0.8479 - val_loss: 0.5139 - val_accuracy: 0.7810\n",
      "Epoch 18/25\n",
      "250/250 [==============================] - 53s 212ms/step - loss: 0.3225 - accuracy: 0.8610 - val_loss: 0.5171 - val_accuracy: 0.7840\n",
      "Epoch 19/25\n",
      "250/250 [==============================] - 55s 219ms/step - loss: 0.3101 - accuracy: 0.8658 - val_loss: 0.5143 - val_accuracy: 0.7930\n",
      "Epoch 20/25\n",
      "250/250 [==============================] - 52s 208ms/step - loss: 0.2930 - accuracy: 0.8759 - val_loss: 0.5163 - val_accuracy: 0.7860\n",
      "Epoch 21/25\n",
      "250/250 [==============================] - 47s 189ms/step - loss: 0.2736 - accuracy: 0.8836 - val_loss: 0.5141 - val_accuracy: 0.7980\n",
      "Epoch 22/25\n",
      "250/250 [==============================] - 49s 194ms/step - loss: 0.2665 - accuracy: 0.8891 - val_loss: 0.5693 - val_accuracy: 0.7920\n",
      "Epoch 23/25\n",
      "250/250 [==============================] - 48s 193ms/step - loss: 0.2512 - accuracy: 0.8997 - val_loss: 0.5538 - val_accuracy: 0.7955\n",
      "Epoch 24/25\n",
      "250/250 [==============================] - 46s 185ms/step - loss: 0.2286 - accuracy: 0.9079 - val_loss: 0.5639 - val_accuracy: 0.7945\n",
      "Epoch 25/25\n",
      "250/250 [==============================] - 48s 191ms/step - loss: 0.2348 - accuracy: 0.9036 - val_loss: 0.6620 - val_accuracy: 0.7635\n"
     ]
    },
    {
     "data": {
      "text/plain": [
       "<tensorflow.python.keras.callbacks.History at 0x7fb6249ecdd8>"
      ]
     },
     "execution_count": 14,
     "metadata": {},
     "output_type": "execute_result"
    }
   ],
   "source": [
    "cnn.fit(x = training_set, validation_data = test_set, epochs = 25)"
   ]
  },
  {
   "cell_type": "markdown",
   "metadata": {
    "colab_type": "text",
    "id": "U3PZasO0006Z"
   },
   "source": [
    "## Part 4 - Making a single prediction"
   ]
  },
  {
   "cell_type": "code",
   "execution_count": 16,
   "metadata": {},
   "outputs": [
    {
     "data": {
      "text/plain": [
       "{'cats': 0, 'dogs': 1}"
      ]
     },
     "execution_count": 16,
     "metadata": {},
     "output_type": "execute_result"
    }
   ],
   "source": [
    "training_set.class_indices"
   ]
  },
  {
   "cell_type": "code",
   "execution_count": 25,
   "metadata": {},
   "outputs": [
    {
     "name": "stdout",
     "output_type": "stream",
     "text": [
      "dog\n"
     ]
    }
   ],
   "source": [
    "import numpy as np\n",
    "from keras.preprocessing import image\n",
    "test_image = image.load_img('dataset/single_prediction/cat_or_dog_1.jpg', target_size = (64, 64))\n",
    "test_image = image.img_to_array(test_image)\n",
    "test_image = np.expand_dims(test_image, axis = 0)\n",
    "result = cnn.predict(test_image)\n",
    "if result[0][0] == 1:\n",
    "    prediction = 'dog'\n",
    "else:\n",
    "    prediction = 'cat'\n",
    "\n",
    "print(prediction)"
   ]
  },
  {
   "cell_type": "code",
   "execution_count": 26,
   "metadata": {},
   "outputs": [
    {
     "name": "stdout",
     "output_type": "stream",
     "text": [
      "cat\n"
     ]
    }
   ],
   "source": [
    "test_image = image.load_img('dataset/single_prediction/cat_or_dog_2.jpg', target_size = (64, 64))\n",
    "test_image = image.img_to_array(test_image)\n",
    "test_image = np.expand_dims(test_image, axis = 0)\n",
    "result = cnn.predict(test_image)\n",
    "if result[0][0] == 1:\n",
    "    prediction = 'dog'\n",
    "else:\n",
    "    prediction = 'cat'\n",
    "\n",
    "print(prediction)"
   ]
  }
 ],
 "metadata": {
  "colab": {
   "authorship_tag": "ABX9TyON0YxX/oky4tPbqCLnFjWD",
   "collapsed_sections": [],
   "name": "convolutional_neural_network.ipynb",
   "provenance": [],
   "toc_visible": true
  },
  "kernelspec": {
   "display_name": "Python 3",
   "language": "python",
   "name": "python3"
  },
  "language_info": {
   "codemirror_mode": {
    "name": "ipython",
    "version": 3
   },
   "file_extension": ".py",
   "mimetype": "text/x-python",
   "name": "python",
   "nbconvert_exporter": "python",
   "pygments_lexer": "ipython3",
   "version": "3.6.12"
  }
 },
 "nbformat": 4,
 "nbformat_minor": 4
}
