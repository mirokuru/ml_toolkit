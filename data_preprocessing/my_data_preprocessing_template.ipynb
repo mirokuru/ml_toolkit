{
 "cells": [
  {
   "cell_type": "markdown",
   "id": "5a89ca79-edd5-4a43-a47a-16402f1d274d",
   "metadata": {},
   "source": [
    "# Data Preprocessing template"
   ]
  },
  {
   "cell_type": "markdown",
   "id": "1529c9c8-8e78-42f2-abfd-6d9b8d1e1bef",
   "metadata": {},
   "source": [
    "## Importing the libraries"
   ]
  },
  {
   "cell_type": "code",
   "execution_count": 1,
   "id": "eb74525b-b7ba-4583-9693-3e10b296e413",
   "metadata": {},
   "outputs": [],
   "source": [
    "import numpy as np\n",
    "import matplotlib.pyplot as plt\n",
    "import pandas as pd"
   ]
  },
  {
   "cell_type": "markdown",
   "id": "87bdb240-76e2-47c7-a4fe-39e82ab2f9b1",
   "metadata": {},
   "source": [
    "## Importing the dataset"
   ]
  },
  {
   "cell_type": "code",
   "execution_count": 2,
   "id": "747071ed-0119-44f0-8bbd-c50a4ade3516",
   "metadata": {},
   "outputs": [],
   "source": [
    "dataset = pd.read_csv('Data.csv')\n",
    "X = dataset.iloc[:, :-1].values\n",
    "y = dataset.iloc[:, -1].values"
   ]
  },
  {
   "cell_type": "markdown",
   "id": "c7d28278-8e07-4989-b5bd-4676ea68e1db",
   "metadata": {},
   "source": [
    "## Splitting the dataset into the Training set and Test set"
   ]
  },
  {
   "cell_type": "code",
   "execution_count": 3,
   "id": "02b93526-6cfb-4f55-9f8d-772e0a597c60",
   "metadata": {},
   "outputs": [],
   "source": [
    "from sklearn.model_selection import train_test_split\n",
    "X_train, X_test, y_train, y_test = train_test_split(X, y, test_size = 0.2, random_state = 0)"
   ]
  }
 ],
 "metadata": {
  "kernelspec": {
   "display_name": "Python 3",
   "language": "python",
   "name": "python3"
  },
  "language_info": {
   "codemirror_mode": {
    "name": "ipython",
    "version": 3
   },
   "file_extension": ".py",
   "mimetype": "text/x-python",
   "name": "python",
   "nbconvert_exporter": "python",
   "pygments_lexer": "ipython3",
   "version": "3.8.5"
  }
 },
 "nbformat": 4,
 "nbformat_minor": 5
}
